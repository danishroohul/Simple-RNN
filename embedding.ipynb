{
 "cells": [
  {
   "cell_type": "code",
   "execution_count": 1,
   "metadata": {},
   "outputs": [],
   "source": [
    "import tensorflow as tf\n",
    "from tensorflow.keras.preprocessing.text import one_hot"
   ]
  },
  {
   "cell_type": "code",
   "execution_count": 3,
   "metadata": {},
   "outputs": [
    {
     "data": {
      "text/plain": [
       "['the glass of milk',\n",
       " 'the glass of juice',\n",
       " 'a cup of tea',\n",
       " 'I am a good boy',\n",
       " 'I am a good developer',\n",
       " 'understand the meaning of words',\n",
       " 'your videos are good']"
      ]
     },
     "execution_count": 3,
     "metadata": {},
     "output_type": "execute_result"
    }
   ],
   "source": [
    "# Experiment Sentences\n",
    "sent = [\n",
    "    'the glass of milk',\n",
    "    'the glass of juice',\n",
    "    'a cup of tea',\n",
    "    'I am a good boy',\n",
    "    'I am a good developer',\n",
    "    'understand the meaning of words',\n",
    "    'your videos are good',\n",
    "]\n",
    "sent"
   ]
  },
  {
   "cell_type": "code",
   "execution_count": 4,
   "metadata": {},
   "outputs": [],
   "source": [
    "# Define the vocabulary size\n",
    "voc_size = 10000"
   ]
  },
  {
   "cell_type": "code",
   "execution_count": 5,
   "metadata": {},
   "outputs": [
    {
     "data": {
      "text/plain": [
       "[[4288, 2754, 6127, 4778],\n",
       " [4288, 2754, 6127, 3590],\n",
       " [3633, 6353, 6127, 4921],\n",
       " [3323, 2048, 3633, 203, 717],\n",
       " [3323, 2048, 3633, 203, 1449],\n",
       " [3518, 4288, 7429, 6127, 8136],\n",
       " [8403, 3948, 5579, 203]]"
      ]
     },
     "execution_count": 5,
     "metadata": {},
     "output_type": "execute_result"
    }
   ],
   "source": [
    "# one hot representation for every word\n",
    "one_hot_repr = [one_hot(words, voc_size) for words in sent]\n",
    "one_hot_repr"
   ]
  },
  {
   "cell_type": "code",
   "execution_count": 7,
   "metadata": {},
   "outputs": [],
   "source": [
    "# Word Embedding representation\n",
    "from tensorflow.keras.layers import Embedding\n",
    "from tensorflow.keras.preprocessing.sequence import pad_sequences\n",
    "from tensorflow.keras.models import Sequential\n",
    "import numpy as np"
   ]
  },
  {
   "cell_type": "code",
   "execution_count": 10,
   "metadata": {},
   "outputs": [
    {
     "data": {
      "text/plain": [
       "array([[   0, 4288, 2754, 6127, 4778],\n",
       "       [   0, 4288, 2754, 6127, 3590],\n",
       "       [   0, 3633, 6353, 6127, 4921],\n",
       "       [3323, 2048, 3633,  203,  717],\n",
       "       [3323, 2048, 3633,  203, 1449],\n",
       "       [3518, 4288, 7429, 6127, 8136],\n",
       "       [   0, 8403, 3948, 5579,  203]])"
      ]
     },
     "execution_count": 10,
     "metadata": {},
     "output_type": "execute_result"
    }
   ],
   "source": [
    "# Sentince padding to make all sentences equal length\n",
    "sent_length = max([len(words.split()) for words in sent])\n",
    "embedded_docs = pad_sequences(one_hot_repr, padding='pre', maxlen=sent_length)\n",
    "embedded_docs"
   ]
  },
  {
   "cell_type": "code",
   "execution_count": 11,
   "metadata": {},
   "outputs": [],
   "source": [
    "# Feature representation\n",
    "dim = 10"
   ]
  },
  {
   "cell_type": "code",
   "execution_count": 15,
   "metadata": {},
   "outputs": [
    {
     "data": {
      "text/html": [
       "<pre style=\"white-space:pre;overflow-x:auto;line-height:normal;font-family:Menlo,'DejaVu Sans Mono',consolas,'Courier New',monospace\"><span style=\"font-weight: bold\">Model: \"sequential_1\"</span>\n",
       "</pre>\n"
      ],
      "text/plain": [
       "\u001b[1mModel: \"sequential_1\"\u001b[0m\n"
      ]
     },
     "metadata": {},
     "output_type": "display_data"
    },
    {
     "data": {
      "text/html": [
       "<pre style=\"white-space:pre;overflow-x:auto;line-height:normal;font-family:Menlo,'DejaVu Sans Mono',consolas,'Courier New',monospace\">┏━━━━━━━━━━━━━━━━━━━━━━━━━━━━━━━━━┳━━━━━━━━━━━━━━━━━━━━━━━━┳━━━━━━━━━━━━━━━┓\n",
       "┃<span style=\"font-weight: bold\"> Layer (type)                    </span>┃<span style=\"font-weight: bold\"> Output Shape           </span>┃<span style=\"font-weight: bold\">       Param # </span>┃\n",
       "┡━━━━━━━━━━━━━━━━━━━━━━━━━━━━━━━━━╇━━━━━━━━━━━━━━━━━━━━━━━━╇━━━━━━━━━━━━━━━┩\n",
       "│ embedding_2 (<span style=\"color: #0087ff; text-decoration-color: #0087ff\">Embedding</span>)         │ ?                      │   <span style=\"color: #00af00; text-decoration-color: #00af00\">0</span> (unbuilt) │\n",
       "└─────────────────────────────────┴────────────────────────┴───────────────┘\n",
       "</pre>\n"
      ],
      "text/plain": [
       "┏━━━━━━━━━━━━━━━━━━━━━━━━━━━━━━━━━┳━━━━━━━━━━━━━━━━━━━━━━━━┳━━━━━━━━━━━━━━━┓\n",
       "┃\u001b[1m \u001b[0m\u001b[1mLayer (type)                   \u001b[0m\u001b[1m \u001b[0m┃\u001b[1m \u001b[0m\u001b[1mOutput Shape          \u001b[0m\u001b[1m \u001b[0m┃\u001b[1m \u001b[0m\u001b[1m      Param #\u001b[0m\u001b[1m \u001b[0m┃\n",
       "┡━━━━━━━━━━━━━━━━━━━━━━━━━━━━━━━━━╇━━━━━━━━━━━━━━━━━━━━━━━━╇━━━━━━━━━━━━━━━┩\n",
       "│ embedding_2 (\u001b[38;5;33mEmbedding\u001b[0m)         │ ?                      │   \u001b[38;5;34m0\u001b[0m (unbuilt) │\n",
       "└─────────────────────────────────┴────────────────────────┴───────────────┘\n"
      ]
     },
     "metadata": {},
     "output_type": "display_data"
    },
    {
     "data": {
      "text/html": [
       "<pre style=\"white-space:pre;overflow-x:auto;line-height:normal;font-family:Menlo,'DejaVu Sans Mono',consolas,'Courier New',monospace\"><span style=\"font-weight: bold\"> Total params: </span><span style=\"color: #00af00; text-decoration-color: #00af00\">0</span> (0.00 B)\n",
       "</pre>\n"
      ],
      "text/plain": [
       "\u001b[1m Total params: \u001b[0m\u001b[38;5;34m0\u001b[0m (0.00 B)\n"
      ]
     },
     "metadata": {},
     "output_type": "display_data"
    },
    {
     "data": {
      "text/html": [
       "<pre style=\"white-space:pre;overflow-x:auto;line-height:normal;font-family:Menlo,'DejaVu Sans Mono',consolas,'Courier New',monospace\"><span style=\"font-weight: bold\"> Trainable params: </span><span style=\"color: #00af00; text-decoration-color: #00af00\">0</span> (0.00 B)\n",
       "</pre>\n"
      ],
      "text/plain": [
       "\u001b[1m Trainable params: \u001b[0m\u001b[38;5;34m0\u001b[0m (0.00 B)\n"
      ]
     },
     "metadata": {},
     "output_type": "display_data"
    },
    {
     "data": {
      "text/html": [
       "<pre style=\"white-space:pre;overflow-x:auto;line-height:normal;font-family:Menlo,'DejaVu Sans Mono',consolas,'Courier New',monospace\"><span style=\"font-weight: bold\"> Non-trainable params: </span><span style=\"color: #00af00; text-decoration-color: #00af00\">0</span> (0.00 B)\n",
       "</pre>\n"
      ],
      "text/plain": [
       "\u001b[1m Non-trainable params: \u001b[0m\u001b[38;5;34m0\u001b[0m (0.00 B)\n"
      ]
     },
     "metadata": {},
     "output_type": "display_data"
    }
   ],
   "source": [
    "model = Sequential(\n",
    "    [\n",
    "        Embedding(voc_size, dim, input_length=sent_length)\n",
    "    ]\n",
    ")\n",
    "model.compile(optimizer='adam', loss='mse')\n",
    "model.summary()"
   ]
  },
  {
   "cell_type": "code",
   "execution_count": 16,
   "metadata": {},
   "outputs": [
    {
     "name": "stdout",
     "output_type": "stream",
     "text": [
      "\u001b[1m1/1\u001b[0m \u001b[32m━━━━━━━━━━━━━━━━━━━━\u001b[0m\u001b[37m\u001b[0m \u001b[1m0s\u001b[0m 133ms/step\n"
     ]
    },
    {
     "data": {
      "text/plain": [
       "array([[[ 4.29049879e-03,  4.39310409e-02,  3.64124440e-02,\n",
       "         -2.87249219e-02,  1.33801140e-02,  2.44941749e-02,\n",
       "         -3.14559229e-02,  1.25096925e-02,  3.78169678e-02,\n",
       "         -3.07033304e-02],\n",
       "        [ 3.65601443e-02,  1.14391223e-02,  1.55194737e-02,\n",
       "          9.45228338e-03, -4.65438738e-02,  3.05731222e-03,\n",
       "         -6.15990162e-03, -4.40470837e-02,  4.31880616e-02,\n",
       "         -3.43180522e-02],\n",
       "        [-3.33623961e-03, -4.86960672e-02, -4.58011739e-02,\n",
       "         -9.50324535e-03, -1.52309425e-02, -2.48106010e-02,\n",
       "          1.85945742e-02,  4.86974791e-03, -4.30100933e-02,\n",
       "         -4.37429436e-02],\n",
       "        [-2.91158687e-02,  4.39164080e-02,  2.59749629e-02,\n",
       "         -2.13661045e-03,  1.17639303e-02,  2.92528383e-02,\n",
       "         -7.16930628e-03, -7.31180981e-03,  3.03586386e-02,\n",
       "         -2.42861509e-02],\n",
       "        [ 3.67857516e-04,  3.64608429e-02,  3.90128046e-03,\n",
       "          1.38993002e-02,  4.08270843e-02,  1.58443786e-02,\n",
       "         -5.40462881e-03,  1.94102861e-02, -1.23795867e-02,\n",
       "         -1.85438618e-02]],\n",
       "\n",
       "       [[ 4.29049879e-03,  4.39310409e-02,  3.64124440e-02,\n",
       "         -2.87249219e-02,  1.33801140e-02,  2.44941749e-02,\n",
       "         -3.14559229e-02,  1.25096925e-02,  3.78169678e-02,\n",
       "         -3.07033304e-02],\n",
       "        [ 3.65601443e-02,  1.14391223e-02,  1.55194737e-02,\n",
       "          9.45228338e-03, -4.65438738e-02,  3.05731222e-03,\n",
       "         -6.15990162e-03, -4.40470837e-02,  4.31880616e-02,\n",
       "         -3.43180522e-02],\n",
       "        [-3.33623961e-03, -4.86960672e-02, -4.58011739e-02,\n",
       "         -9.50324535e-03, -1.52309425e-02, -2.48106010e-02,\n",
       "          1.85945742e-02,  4.86974791e-03, -4.30100933e-02,\n",
       "         -4.37429436e-02],\n",
       "        [-2.91158687e-02,  4.39164080e-02,  2.59749629e-02,\n",
       "         -2.13661045e-03,  1.17639303e-02,  2.92528383e-02,\n",
       "         -7.16930628e-03, -7.31180981e-03,  3.03586386e-02,\n",
       "         -2.42861509e-02],\n",
       "        [ 3.05684544e-02, -4.12453339e-03, -2.41253264e-02,\n",
       "          4.73609827e-02,  3.38244438e-03, -1.94325093e-02,\n",
       "          4.72878292e-03, -1.71320811e-02, -3.44792828e-02,\n",
       "         -1.81561001e-02]],\n",
       "\n",
       "       [[ 4.29049879e-03,  4.39310409e-02,  3.64124440e-02,\n",
       "         -2.87249219e-02,  1.33801140e-02,  2.44941749e-02,\n",
       "         -3.14559229e-02,  1.25096925e-02,  3.78169678e-02,\n",
       "         -3.07033304e-02],\n",
       "        [-3.35292108e-02,  4.58355062e-02,  2.74389498e-02,\n",
       "          2.43761204e-02,  2.68935077e-02, -2.63883602e-02,\n",
       "         -3.32100280e-02, -3.94652002e-02, -1.53126940e-02,\n",
       "          2.55154632e-02],\n",
       "        [ 4.14908193e-02, -5.67305088e-03,  8.47878307e-03,\n",
       "         -8.15694407e-03, -4.98843305e-02,  1.61969997e-02,\n",
       "          2.51969360e-02,  4.32884730e-02,  1.83744691e-02,\n",
       "          1.37589462e-02],\n",
       "        [-2.91158687e-02,  4.39164080e-02,  2.59749629e-02,\n",
       "         -2.13661045e-03,  1.17639303e-02,  2.92528383e-02,\n",
       "         -7.16930628e-03, -7.31180981e-03,  3.03586386e-02,\n",
       "         -2.42861509e-02],\n",
       "        [-5.00136614e-03,  3.56733538e-02, -1.20330080e-02,\n",
       "          1.94473304e-02,  1.49753727e-02,  1.40426271e-02,\n",
       "         -4.86052744e-02, -1.69044621e-02, -2.65191086e-02,\n",
       "          3.49111892e-02]],\n",
       "\n",
       "       [[ 4.76242043e-02,  2.75729410e-02, -7.99624994e-03,\n",
       "          3.53817232e-02,  1.29969828e-02,  4.37856577e-02,\n",
       "          4.35542203e-02,  4.93025072e-02,  4.19312157e-02,\n",
       "         -2.57215742e-02],\n",
       "        [ 2.74483077e-02, -2.00214870e-02, -9.58381966e-03,\n",
       "          3.40958945e-02, -2.81748772e-02, -6.66214153e-03,\n",
       "          2.19301321e-02,  4.95697372e-02,  8.09874386e-03,\n",
       "         -1.04776993e-02],\n",
       "        [-3.35292108e-02,  4.58355062e-02,  2.74389498e-02,\n",
       "          2.43761204e-02,  2.68935077e-02, -2.63883602e-02,\n",
       "         -3.32100280e-02, -3.94652002e-02, -1.53126940e-02,\n",
       "          2.55154632e-02],\n",
       "        [ 2.14665011e-03,  4.91236709e-02,  8.38643312e-03,\n",
       "          4.71961536e-02,  3.65344547e-02, -3.97011526e-02,\n",
       "         -1.55725591e-02,  4.98415492e-02,  3.39488275e-02,\n",
       "          1.67591237e-02],\n",
       "        [ 5.72800636e-05, -8.10045004e-03, -4.30732965e-02,\n",
       "          1.32291578e-02, -3.33019048e-02, -3.48721519e-02,\n",
       "         -3.91281359e-02,  9.81689617e-03, -4.48665284e-02,\n",
       "          5.26444986e-03]],\n",
       "\n",
       "       [[ 4.76242043e-02,  2.75729410e-02, -7.99624994e-03,\n",
       "          3.53817232e-02,  1.29969828e-02,  4.37856577e-02,\n",
       "          4.35542203e-02,  4.93025072e-02,  4.19312157e-02,\n",
       "         -2.57215742e-02],\n",
       "        [ 2.74483077e-02, -2.00214870e-02, -9.58381966e-03,\n",
       "          3.40958945e-02, -2.81748772e-02, -6.66214153e-03,\n",
       "          2.19301321e-02,  4.95697372e-02,  8.09874386e-03,\n",
       "         -1.04776993e-02],\n",
       "        [-3.35292108e-02,  4.58355062e-02,  2.74389498e-02,\n",
       "          2.43761204e-02,  2.68935077e-02, -2.63883602e-02,\n",
       "         -3.32100280e-02, -3.94652002e-02, -1.53126940e-02,\n",
       "          2.55154632e-02],\n",
       "        [ 2.14665011e-03,  4.91236709e-02,  8.38643312e-03,\n",
       "          4.71961536e-02,  3.65344547e-02, -3.97011526e-02,\n",
       "         -1.55725591e-02,  4.98415492e-02,  3.39488275e-02,\n",
       "          1.67591237e-02],\n",
       "        [-1.06434338e-02, -3.67064364e-02,  1.32676102e-02,\n",
       "         -1.35500059e-02, -2.05152761e-02, -3.21693644e-02,\n",
       "         -1.59665346e-02,  4.24530841e-02, -3.05936094e-02,\n",
       "          3.45957391e-02]],\n",
       "\n",
       "       [[-4.75449450e-02, -4.60748747e-03,  1.88529231e-02,\n",
       "          7.77443498e-03,  5.44456393e-03,  2.95570157e-02,\n",
       "          2.72631682e-02,  6.98984787e-03,  4.55521829e-02,\n",
       "         -4.78840135e-02],\n",
       "        [ 3.65601443e-02,  1.14391223e-02,  1.55194737e-02,\n",
       "          9.45228338e-03, -4.65438738e-02,  3.05731222e-03,\n",
       "         -6.15990162e-03, -4.40470837e-02,  4.31880616e-02,\n",
       "         -3.43180522e-02],\n",
       "        [-2.87506115e-02,  4.00487892e-02, -4.52376120e-02,\n",
       "          2.98415497e-03, -1.84459314e-02, -3.00523397e-02,\n",
       "         -1.28537901e-02,  4.13525589e-02, -3.97297516e-02,\n",
       "         -7.19326735e-03],\n",
       "        [-2.91158687e-02,  4.39164080e-02,  2.59749629e-02,\n",
       "         -2.13661045e-03,  1.17639303e-02,  2.92528383e-02,\n",
       "         -7.16930628e-03, -7.31180981e-03,  3.03586386e-02,\n",
       "         -2.42861509e-02],\n",
       "        [-3.05650383e-03, -1.54135227e-02, -3.61270197e-02,\n",
       "          2.62022018e-04, -4.71291915e-02,  2.03079842e-02,\n",
       "          1.04125626e-02,  3.84436511e-02, -8.33324343e-03,\n",
       "          2.15410702e-02]],\n",
       "\n",
       "       [[ 4.29049879e-03,  4.39310409e-02,  3.64124440e-02,\n",
       "         -2.87249219e-02,  1.33801140e-02,  2.44941749e-02,\n",
       "         -3.14559229e-02,  1.25096925e-02,  3.78169678e-02,\n",
       "         -3.07033304e-02],\n",
       "        [ 8.99858400e-03, -9.76499170e-03,  1.63227431e-02,\n",
       "         -2.59577632e-02,  1.71708800e-02, -1.11444592e-02,\n",
       "          1.27153881e-02,  3.75827439e-02, -7.75213167e-03,\n",
       "          2.86340155e-02],\n",
       "        [-3.84094007e-02,  2.60176770e-02,  2.10921802e-02,\n",
       "          3.37302797e-02,  4.93856333e-02, -2.35996004e-02,\n",
       "          3.55239771e-02, -2.56831646e-02, -1.44854672e-02,\n",
       "         -1.04274154e-02],\n",
       "        [-3.70346680e-02,  2.07368769e-02,  3.41590159e-02,\n",
       "          3.79698984e-02,  2.99842618e-02, -1.52912140e-02,\n",
       "         -1.29950643e-02,  2.82139294e-02, -2.57089864e-02,\n",
       "         -2.35750321e-02],\n",
       "        [ 2.14665011e-03,  4.91236709e-02,  8.38643312e-03,\n",
       "          4.71961536e-02,  3.65344547e-02, -3.97011526e-02,\n",
       "         -1.55725591e-02,  4.98415492e-02,  3.39488275e-02,\n",
       "          1.67591237e-02]]], dtype=float32)"
      ]
     },
     "execution_count": 16,
     "metadata": {},
     "output_type": "execute_result"
    }
   ],
   "source": [
    "model.predict(embedded_docs)"
   ]
  },
  {
   "cell_type": "code",
   "execution_count": 17,
   "metadata": {},
   "outputs": [
    {
     "data": {
      "text/plain": [
       "array([   0, 4288, 2754, 6127, 4778])"
      ]
     },
     "execution_count": 17,
     "metadata": {},
     "output_type": "execute_result"
    }
   ],
   "source": [
    "embedded_docs[0]"
   ]
  },
  {
   "cell_type": "code",
   "execution_count": 19,
   "metadata": {},
   "outputs": [
    {
     "name": "stdout",
     "output_type": "stream",
     "text": [
      "\u001b[1m1/1\u001b[0m \u001b[32m━━━━━━━━━━━━━━━━━━━━\u001b[0m\u001b[37m\u001b[0m \u001b[1m0s\u001b[0m 60ms/step\n"
     ]
    },
    {
     "data": {
      "text/plain": [
       "array([[[ 0.0042905 ,  0.04393104,  0.03641244, -0.02872492,\n",
       "          0.01338011,  0.02449417, -0.03145592,  0.01250969,\n",
       "          0.03781697, -0.03070333],\n",
       "        [ 0.03656014,  0.01143912,  0.01551947,  0.00945228,\n",
       "         -0.04654387,  0.00305731, -0.0061599 , -0.04404708,\n",
       "          0.04318806, -0.03431805],\n",
       "        [-0.00333624, -0.04869607, -0.04580117, -0.00950325,\n",
       "         -0.01523094, -0.0248106 ,  0.01859457,  0.00486975,\n",
       "         -0.04301009, -0.04374294],\n",
       "        [-0.02911587,  0.04391641,  0.02597496, -0.00213661,\n",
       "          0.01176393,  0.02925284, -0.00716931, -0.00731181,\n",
       "          0.03035864, -0.02428615],\n",
       "        [ 0.00036786,  0.03646084,  0.00390128,  0.0138993 ,\n",
       "          0.04082708,  0.01584438, -0.00540463,  0.01941029,\n",
       "         -0.01237959, -0.01854386]]], dtype=float32)"
      ]
     },
     "execution_count": 19,
     "metadata": {},
     "output_type": "execute_result"
    }
   ],
   "source": [
    "model.predict(embedded_docs[0].reshape(1,len(embedded_docs[0])))"
   ]
  },
  {
   "cell_type": "code",
   "execution_count": null,
   "metadata": {},
   "outputs": [],
   "source": []
  }
 ],
 "metadata": {
  "kernelspec": {
   "display_name": "NLP_ENV",
   "language": "python",
   "name": "python3"
  },
  "language_info": {
   "codemirror_mode": {
    "name": "ipython",
    "version": 3
   },
   "file_extension": ".py",
   "mimetype": "text/x-python",
   "name": "python",
   "nbconvert_exporter": "python",
   "pygments_lexer": "ipython3",
   "version": "3.11.11"
  }
 },
 "nbformat": 4,
 "nbformat_minor": 2
}
